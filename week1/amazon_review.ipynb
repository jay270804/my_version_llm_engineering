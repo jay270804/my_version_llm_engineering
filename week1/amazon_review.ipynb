{
 "cells": [
  {
   "cell_type": "code",
   "execution_count": 1,
   "id": "45694686-3987-44b9-9885-7ebe78eb2d18",
   "metadata": {},
   "outputs": [],
   "source": [
    "import requests\n",
    "from bs4 import BeautifulSoup\n"
   ]
  },
  {
   "cell_type": "code",
   "execution_count": 2,
   "id": "91a5e1ae-9691-46aa-a6d8-713879ab0ea4",
   "metadata": {},
   "outputs": [],
   "source": [
    "HEADERS = {\n",
    " \"User-Agent\": \"Mozilla/5.0 (Windows NT 10.0; Win64; x64) AppleWebKit/537.36 (KHTML, like Gecko) Chrome/117.0.0.0 Safari/537.36\"\n",
    "}\n",
    "\n",
    "\n",
    "class Website:\n",
    "    def __init__(self, url):\n",
    "        self.url = url\n",
    "        self.headers = HEADERS\n",
    "        response = requests.get(url=self.url, headers=self.headers)\n",
    "        self.soup = BeautifulSoup(response.content, 'html.parser')\n",
    "        for irr in self.soup.body(['script', 'style','input','img']):\n",
    "            irr.decompose()\n",
    "        self.text = self.soup.body.get_text(separator='\\n', strip=True)"
   ]
  },
  {
   "cell_type": "code",
   "execution_count": 3,
   "id": "5dffc304-2a8e-4f4e-ae23-fe7d39df77ad",
   "metadata": {},
   "outputs": [],
   "source": [
    "blue_tokai_review = Website('https://www.amazon.in/Blue-Tokai-Coffee-Roasters-Vienna/dp/B01C75MJPO/ref=zg_bs_g_27345410031_d_sccl_7/260-0302515-5540077')\n",
    "id=\"cm-cr-dp-review-list\"\n",
    "review_list = blue_tokai_review.soup.find(id=id)\n",
    "# print(review_list.text)"
   ]
  },
  {
   "cell_type": "code",
   "execution_count": 4,
   "id": "097fb5ff-7bd3-43db-bbf3-00fde9977022",
   "metadata": {},
   "outputs": [],
   "source": [
    "MESSAGES = [\n",
    "    {\n",
    "        'role':'system', \n",
    "        'content':'You are a product review summarizer, provided with web scraped product reviews\\\n",
    "    avoid irrelevant data regarding website only focus on product reviews,\\\n",
    "    give me repsonse as well formatted markdown.'\n",
    "    },\n",
    "    {\n",
    "        'role':'user',\n",
    "        'content':review_list.text\n",
    "    }\n",
    "]"
   ]
  },
  {
   "cell_type": "code",
   "execution_count": 5,
   "id": "e2b5ec99-e3de-4b92-8dc8-15112677d702",
   "metadata": {},
   "outputs": [],
   "source": [
    "import ollama\n",
    "from IPython.display import display, Markdown\n",
    "\n",
    "LLAMA = 'llama3.2'\n",
    "QWEN = 'qwen2.5'\n",
    "MISTRAL = 'mistral'\n"
   ]
  },
  {
   "cell_type": "code",
   "execution_count": 6,
   "id": "ff283b68-c4eb-49b4-8dce-ea313618e1ab",
   "metadata": {
    "collapsed": true,
    "jupyter": {
     "outputs_hidden": true
    },
    "scrolled": true
   },
   "outputs": [
    {
     "data": {
      "text/markdown": [
       "This is a review collection for the Blue Tokai Coffee Roasters Vienna Roast coffee. Here's a summary:\n",
       "\n",
       "**Overall Rating:** 4.7/5 (based on 14 reviews)\n",
       "\n",
       "**Key Highlights:**\n",
       "\n",
       "* Rich and satisfying flavor with notes of chocolate and nuts.\n",
       "* High caffeine content, making it perfect for those who need an energy boost.\n",
       "* Low acidity makes it suitable for sensitive stomachs or those who prefer a smoother coffee taste.\n",
       "* Fresh packaging and high-quality roasting ensure optimal flavor and aroma.\n",
       "\n",
       "**Pros:**\n",
       "\n",
       "* Excellent flavor profile\n",
       "* High caffeine content\n",
       "* Low acidity\n",
       "* Fresh packaging and quality roasting\n",
       "* Suitable for various brewing methods\n",
       "\n",
       "**Cons:**\n",
       "\n",
       "* Some reviewers experienced a burnt smell when drinking the coffee, especially in hot water only (not with milk).\n",
       "* The taste can be strong, but not necessarily dense or lingering on the palate.\n",
       "\n",
       "**Recommendations:**\n",
       "\n",
       "* Perfect for those who love deep-roasted coffee and want a rich, satisfying flavor.\n",
       "* Suitable for brewing methods such as French Press, Pourover, South Indian Filter, and Home Espresso.\n",
       "* Ideal for busy mornings or long afternoons when an energy boost is needed.\n",
       "\n",
       "**Branding:**\n",
       "\n",
       "Blue Tokai Coffee Roasters seems to have a strong reputation among coffee enthusiasts, with many reviewers praising the high-quality roasting and fresh packaging. The brand's focus on quality and customer satisfaction has earned them a loyal following."
      ],
      "text/plain": [
       "<IPython.core.display.Markdown object>"
      ]
     },
     "metadata": {},
     "output_type": "display_data"
    }
   ],
   "source": [
    "# Llama\n",
    "llama_response = ollama.chat(model=LLAMA, messages=MESSAGES)\n",
    "display(Markdown(llama_response['message']['content']))"
   ]
  },
  {
   "cell_type": "code",
   "execution_count": 18,
   "id": "b30101cd-2b0b-42f2-bfe2-fcc6ff5f331d",
   "metadata": {
    "collapsed": true,
    "jupyter": {
     "outputs_hidden": true
    }
   },
   "outputs": [
    {
     "data": {
      "text/markdown": [
       "### Review Analysis for Blue Tokai Coffee Roasters Vienna Roast\n",
       "\n",
       "Based on the reviews, it's clear that Blue Tokai Coffee Roasters Vienna Roast is a highly regarded coffee brand among users in India. Here’s a detailed summary of the key points from each review:\n",
       "\n",
       "1. **Pankaj Sharma (5.0 stars)**\n",
       "   - **Review Title:** Right roast for your daily needs.\n",
       "   - **Summary:** Pankaj finds this to be a balanced coffee, good for brewing with various methods like French press or even just as a home espresso. He emphasizes the importance of preparation in achieving taste.\n",
       "\n",
       "2. **Tejaswini (5.0 stars)**\n",
       "   - **Review Title:** Unmatched flavor qnd Lasting Energy!!\n",
       "   - **Summary:** Tejaswini highly recommends this coffee for its rich and lingering flavor, making it perfect for busy mornings or afternoons. The roasting quality promises freshness in every cup.\n",
       "\n",
       "3. **Akshay (5.0 stars)**\n",
       "   - **Review Title:** Better than expensive instant coffees out there.\n",
       "   - **Summary:** Akshay praises the taste and aroma of this coffee, noting it is not acidic and appeals to those who love deep roasted coffee. He found it to be a top choice for brewing in a South Indian filter method.\n",
       "\n",
       "4. **NVD (4.0 stars)**\n",
       "   - **Review Title:** Smells incredible but burnt smell while drinking\n",
       "   - **Summary:** NVD notes that the coffee smells great but has a burnt taste when consumed. They plan to try other products from this brand and provide an update later.\n",
       "\n",
       "5. **anand (3.0 stars)**\n",
       "   - **Review Title:** The taste is strong but it doesn't feel dense or lingers in the mouth.\n",
       "   - **Summary:** Anand finds that while the coffee has a good smell, the taste does not linger as much as he would prefer. He compares it unfavorably to Nescafe Black Roast for its density and lingering flavor.\n",
       "\n",
       "### Common Themes:\n",
       "\n",
       "- **Taste and Flavor:**\n",
       "  - Many users find this coffee rich, flavorful, and satisfying.\n",
       "  - It is often noted that the taste lingers on the palate, making it perfect for busy mornings or afternoons.\n",
       "  \n",
       "- **Comparison with Nescafe/Other Brands:**\n",
       "  - Some reviewers compare it favorably to more expensive instant coffees, suggesting a better quality-to-price ratio.\n",
       "  - There are mixed opinions on its density and solubility compared to other brands.\n",
       "\n",
       "- **Preparation Methods:**\n",
       "  - Pankaj emphasizes the importance of preparation method for achieving the best taste.\n",
       "  - Akshay recommends using it in South Indian filter methods, which seems to be effective for him.\n",
       "\n",
       "### Negative Points:\n",
       "- **Burnt Taste:** \n",
       "  - NVD and anand mention a burnt taste that detracts from the overall experience. \n",
       "\n",
       "### Conclusion:\n",
       "\n",
       "Blue Tokai Coffee Roasters Vienna Roast is highly recommended by many users for its rich flavor and lasting energy, especially in the South Indian filter method. However, there are some concerns about its density and solubility compared to other brands, as well as a few mentions of a burnt taste when consumed. Overall, it seems like a good choice for those looking for a high-quality deep-roasted coffee but may require careful preparation methods to maximize its flavor potential.\n",
       "\n",
       "Would you like me to provide more specific recommendations or clarify any part of the review analysis?"
      ],
      "text/plain": [
       "<IPython.core.display.Markdown object>"
      ]
     },
     "metadata": {},
     "output_type": "display_data"
    }
   ],
   "source": [
    "# Qwen\n",
    "qwen_response = ollama.chat(model=QWEN, messages=MESSAGES)\n",
    "display(Markdown(qwen_response['message']['content']))"
   ]
  },
  {
   "cell_type": "code",
   "execution_count": 7,
   "id": "a914f9a1-850b-49d5-a3ee-81daa5cb575c",
   "metadata": {},
   "outputs": [
    {
     "data": {
      "text/markdown": [
       " Here are the Amazon reviews for Blue Tokai Coffee Roasters Vienna Roast:\n",
       "\n",
       "1. Pankaj Sharma (5 stars) - Right roast for your daily needs. This is a brew that you might find with an appropriate balance of taste and roast. I always tell people that the secret to the taste is in preparation, especially when it comes to brewing coffee. Brew it for yourself or for all of your friends, Blue Tokai Coffee Roasters Vienna Roast is a good choice.\n",
       "\n",
       "2. Tejaswini (5 stars) - Unmatched flavor qnd Lasting Energy!! I've tried many coffees, but I have to say, this one truly stands out at the top. The taste is rich, satisfying moreover lingers pleasantly on the palate. I would highly recommend this if you're lookin' for a coffee that combines exceptional taste and also lasting energy, perfect for those busy mornings or long afternoons. This roasting quality promises great freshness in every cup!\n",
       "\n",
       "3. NVD (4 stars) - Smells incredible but burnt smell while drinking. The coffee smells great in the pouch but when sipped gives a burnt smell. Have tried in hot water only not milk. Will try some of their other products and see.\n",
       "\n",
       "4. Akshay (5 stars) - Better than expensive instant coffees out there. There is nothing to dislike about this coffee. The taste and aroma are fantastic. It is not at all acidic. Those who love deep roasted coffee will love this. I personally became a big fan of this brand. Just add two tbsp coffee to a filter and add hot water, let it brew taking its time, fine coffee is ready in 20 mins. Its nothing short of amazing. loved it!\n",
       "\n",
       "5. anand (3 stars) - The taste is strong but it doesn't feel dense or lingers in the mouth. The coffee is not soluble which they should mention. The smell is strong and bitter but the taste is on the more okayish side. I tried Nescafe black roast and that certainly feels more prominent in taste, dense and soluble as well as the taste lingers on the palate. Also this is not as strong I would say to wake me up.\n",
       "\n",
       "6. Tejaswini (5 stars) - Unmatched flavor qnd Lasting Energy!! I've tried many coffees, but I have to say, this one truly stands out at the top. The taste is rich, satisfying moreover lingers pleasantly on the palate. I would highly recommend this if you're lookin' for a coffee that combines exceptional taste and also lasting energy, perfect for those busy mornings or long afternoons. This roasting quality promises great freshness in every cup!\n",
       "\n",
       "7. Pankaj Sharma (5 stars) - Right roast for your daily needs. This is a brew that you might find with an appropriate balance of taste and roast. I always tell people that the secret to the taste is in preparation, especially when it comes to brewing coffee. Brew it for yourself or for all of your friends, Blue Tokai Coffee Roasters Vienna Roast is a good choice.\n",
       "\n",
       "8. NVD (4 stars) - Smells incredible but burnt smell while drinking. The coffee smells great in the pouch but when sipped gives a burnt smell. Have tried in hot water only not milk. Will try some of their other products and see.\n",
       "\n",
       "9. Akshay (5 stars) - Better than expensive instant coffees out there. There is nothing to dislike about this coffee. The taste and aroma are fantastic. It is not at all acidic. Those who love deep roasted coffee will love this. I personally became a big fan of this brand. Just add two tbsp coffee to a filter and add hot water, let it brew taking its time, fine coffee is ready in 20 mins. Its nothing short of amazing. loved it!\n",
       "\n",
       "10. Tejaswini (5 stars) - Unmatched flavor qnd Lasting Energy!! I've tried many coffees, but I have to say, this one truly stands out at the top. The taste is rich, satisfying moreover lingers pleasantly on the palate. I would highly recommend this if you're lookin' for a coffee that combines exceptional taste and also lasting energy, perfect for those busy mornings or long afternoons. This roasting quality promises great freshness in every cup!"
      ],
      "text/plain": [
       "<IPython.core.display.Markdown object>"
      ]
     },
     "metadata": {},
     "output_type": "display_data"
    }
   ],
   "source": [
    "# Mistral \n",
    "mistral_response = ollama.chat(model=MISTRAL, messages=MESSAGES)\n",
    "display(Markdown(mistral_response['message']['content']))"
   ]
  },
  {
   "cell_type": "code",
   "execution_count": 29,
   "id": "84450ebe-7fe9-40a3-aa3a-84b5980ecec6",
   "metadata": {},
   "outputs": [],
   "source": [
    "colombian_brew_review = Website('https://www.amazon.in/Colombian-Brew-Coffee-Arabica-French/dp/B07PBBP989/ref=sr_1_5?nsdOptOutParam=true&sr=8-5')\n",
    "review_list = colombian_brew_review.soup.find(id=id)\n",
    "MESSAGES = [\n",
    "    {\n",
    "        'role':'system', \n",
    "        'content':'You are a product review summarizer, provided with web scraped product reviews\\\n",
    "    avoid irrelevant data regarding website only focus on product reviews, give me repsonse as markdown which support IPython Markdown library.'\\\n",
    "    },\n",
    "    {\n",
    "        'role':'user',\n",
    "        'content':review_list.text\n",
    "    }\n",
    "]\n",
    "\n"
   ]
  },
  {
   "cell_type": "code",
   "execution_count": 30,
   "id": "677b9b1d-21b9-44fc-a353-39447f86be63",
   "metadata": {},
   "outputs": [
    {
     "data": {
      "text/markdown": [
       "```markdown\n",
       "## Product Reviews Summary\n",
       "\n",
       "### Positive Reviews (5 Stars)\n",
       "- **Voytek**: \"My favorite so far\" - Vanilla flavor is appreciated despite the suggestion that it should be stronger.\n",
       "- **Umesh Charki**: \"Good taste and aroma\" - Perfectly grounded for French press, strong and aromatic with a perfect roast.\n",
       "- **Komal J.**: \"My morning favourite ❤️\" - Hazelnut-flavored coffee has become her favorite morning beverage, offering a delightful, balanced flavor.\n",
       "\n",
       "### Mixed Reviews (4 Stars)\n",
       "- **Tathagat Verma**: \"Excellent flavor\" - Good aroma and taste but a novice in French press preparation.\n",
       "  \n",
       "### Neutral to Negative Reviews\n",
       "- **Susmit Datta**: \"Very old coffee\" - Coffee received was very old, flavor lost. Disappointed with the purchase.\n",
       "- **Mohit**: \"Mint is absolutely horrible!\" - Flavors of nutmeg, cinnamon, and especially mint are terrible for coffee enthusiasts.\n",
       "- **Areeb**: \"Only Mint. Where's the coffee?\" - Overpowered by mint flavor, no detectable coffee taste; not recommended for true coffee lovers.\n",
       "- **ashish ranjan**: \"Taste not up to mark\" - Does not resemble 100% Arabica beans and has a strong smell with no flavor.\n",
       "\n",
       "### Key Takeaways\n",
       "- **Flavored vs. Unflavored**: Positive reviews are more inclined towards traditional unflavored coffee, highlighting its aroma and taste. Flavored varieties received mixed to negative feedback.\n",
       "- **Quality Issues**: Old stock and substandard quality were common complaints, leading to dissatisfaction among some customers.\n",
       "- **Customer Experience**: The overall experience varies widely based on personal preferences for flavored or unflavored coffee.\n",
       "\n",
       "```\n",
       "This summary provides a clear overview of the reviews, categorizing them by sentiment and highlighting key points that could influence future purchases."
      ],
      "text/plain": [
       "<IPython.core.display.Markdown object>"
      ]
     },
     "metadata": {},
     "output_type": "display_data"
    }
   ],
   "source": [
    "qwen_response = ollama.chat(model=QWEN, messages=MESSAGES)\n",
    "display(Markdown(qwen_response['message']['content']))"
   ]
  },
  {
   "cell_type": "code",
   "execution_count": 31,
   "id": "b7e455f0-afaf-4d39-9323-b0806e72dc31",
   "metadata": {},
   "outputs": [
    {
     "data": {
      "text/markdown": [
       "### Product Review Summary: Arabica Coffee Beans\n",
       "\n",
       "#### Overview\n",
       "Arabica coffee beans are a popular choice among coffee enthusiasts, and this product review highlights the pros and cons of their flavor profile.\n",
       "\n",
       "#### Positive Reviews\n",
       "\n",
       "*   **Voytek**: 5/5 stars - \"My favorite coffee\"\n",
       "    *   Likes: Vanilla flavor (although it could be stronger)\n",
       "    *   Dislikes: None mentioned\n",
       "*   **Umesh Charki**: 5/5 stars - \"Good taste and aroma\"\n",
       "    *   Likes: Strong and perfect grounds for French press, amazing aroma\n",
       "    *   Dislikes: None mentioned\n",
       "*   **Komal J.**: 5/5 stars - \"My morning favourite ❤️\"\n",
       "    *   Likes: Deliciously rich hazelnut flavor, perfect balance, smooth brew every time\n",
       "    *   Dislikes: None mentioned\n",
       "\n",
       "#### Negative Reviews\n",
       "\n",
       "*   **Susmit Datta**: 4/5 stars - \"Very old coffee\"\n",
       "    *   Likes: None mentioned\n",
       "    *   Dislikes: Flavor lost over time, disappointment with Columbian Brew\n",
       "*   **Mohit**: 3/5 stars - \"Mint is absolutely horrible!\"\n",
       "    *   Likes: Nutmeg and Cinnamon flavors (although not his personal preference)\n",
       "    *   Dislikes: Mint flavor overpowering coffee taste\n",
       "*   **Areeb**: 1/5 stars - \"Only Mint. Where's the coffee?\"\n",
       "    *   Likes: None mentioned\n",
       "    *   Dislikes: Coffee overpowered by mint flavor, non-existent coffee taste\n",
       "*   **ashish ranjan**: 2/5 stars - \"Taste not upto mark\"\n",
       "    *   Likes: None mentioned\n",
       "    *   Dislikes: Strong smell but no flavor, tastes like Robusta beans\n",
       "\n",
       "#### Common Themes\n",
       "\n",
       "*   Flavor profile varies depending on the customer's preference\n",
       "*   Some flavors (like Mint) overpower the coffee taste\n",
       "*   Quality of coffee beans can impact the overall experience"
      ],
      "text/plain": [
       "<IPython.core.display.Markdown object>"
      ]
     },
     "metadata": {},
     "output_type": "display_data"
    }
   ],
   "source": [
    "llama_response = ollama.chat(model=LLAMA, messages=MESSAGES)\n",
    "display(Markdown(llama_response['message']['content']))"
   ]
  },
  {
   "cell_type": "code",
   "execution_count": null,
   "id": "034cd1ae-23e2-4af8-beb1-b7b28bf6a293",
   "metadata": {},
   "outputs": [],
   "source": []
  }
 ],
 "metadata": {
  "kernelspec": {
   "display_name": "Python 3 (ipykernel)",
   "language": "python",
   "name": "python3"
  },
  "language_info": {
   "codemirror_mode": {
    "name": "ipython",
    "version": 3
   },
   "file_extension": ".py",
   "mimetype": "text/x-python",
   "name": "python",
   "nbconvert_exporter": "python",
   "pygments_lexer": "ipython3",
   "version": "3.11.11"
  }
 },
 "nbformat": 4,
 "nbformat_minor": 5
}
