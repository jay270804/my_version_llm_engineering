{
 "cells": [
  {
   "cell_type": "markdown",
   "id": "d15d8294-3328-4e07-ad16-8a03e9bbfdb9",
   "metadata": {},
   "source": [
    "# Welcome to your first assignment!\n",
    "\n",
    "Instructions are below. Please give this a try, and look in the solutions folder if you get stuck (or feel free to ask me!)"
   ]
  },
  {
   "cell_type": "markdown",
   "id": "ada885d9-4d42-4d9b-97f0-74fbbbfe93a9",
   "metadata": {},
   "source": [
    "<table style=\"margin: 0; text-align: left;\">\n",
    "    <tr>\n",
    "        <td style=\"width: 150px; height: 150px; vertical-align: middle;\">\n",
    "            <img src=\"../resources.jpg\" width=\"150\" height=\"150\" style=\"display: block;\" />\n",
    "        </td>\n",
    "        <td>\n",
    "            <h2 style=\"color:#f71;\">Just before we get to the assignment --</h2>\n",
    "            <span style=\"color:#f71;\">I thought I'd take a second to point you at this page of useful resources for the course. This includes links to all the slides.<br/>\n",
    "            <a href=\"https://edwarddonner.com/2024/11/13/llm-engineering-resources/\">https://edwarddonner.com/2024/11/13/llm-engineering-resources/</a><br/>\n",
    "            Please keep this bookmarked, and I'll continue to add more useful links there over time.\n",
    "            </span>\n",
    "        </td>\n",
    "    </tr>\n",
    "</table>"
   ]
  },
  {
   "cell_type": "markdown",
   "id": "6e9fa1fc-eac5-4d1d-9be4-541b3f2b3458",
   "metadata": {},
   "source": [
    "# HOMEWORK EXERCISE ASSIGNMENT\n",
    "\n",
    "Upgrade the day 1 project to summarize a webpage to use an Open Source model running locally via Ollama rather than OpenAI\n",
    "\n",
    "You'll be able to use this technique for all subsequent projects if you'd prefer not to use paid APIs.\n",
    "\n",
    "**Benefits:**\n",
    "1. No API charges - open-source\n",
    "2. Data doesn't leave your box\n",
    "\n",
    "**Disadvantages:**\n",
    "1. Significantly less power than Frontier Model\n",
    "\n",
    "## Recap on installation of Ollama\n",
    "\n",
    "Simply visit [ollama.com](https://ollama.com) and install!\n",
    "\n",
    "Once complete, the ollama server should already be running locally.  \n",
    "If you visit:  \n",
    "[http://localhost:11434/](http://localhost:11434/)\n",
    "\n",
    "You should see the message `Ollama is running`.  \n",
    "\n",
    "If not, bring up a new Terminal (Mac) or Powershell (Windows) and enter `ollama serve`  \n",
    "And in another Terminal (Mac) or Powershell (Windows), enter `ollama pull llama3.2`  \n",
    "Then try [http://localhost:11434/](http://localhost:11434/) again.\n",
    "\n",
    "If Ollama is slow on your machine, try using `llama3.2:1b` as an alternative. Run `ollama pull llama3.2:1b` from a Terminal or Powershell, and change the code below from `MODEL = \"llama3.2\"` to `MODEL = \"llama3.2:1b\"`"
   ]
  },
  {
   "cell_type": "code",
   "execution_count": 2,
   "id": "4e2a9393-7767-488e-a8bf-27c12dca35bd",
   "metadata": {},
   "outputs": [],
   "source": [
    "# imports\n",
    "import os\n",
    "import requests\n",
    "from bs4 import BeautifulSoup\n",
    "from IPython.display import Markdown, display\n",
    "from openai import OpenAI\n",
    "from dotenv import load_dotenv"
   ]
  },
  {
   "cell_type": "code",
   "execution_count": 3,
   "id": "29ddd15d-a3c5-4f4e-a678-873f56162724",
   "metadata": {},
   "outputs": [],
   "source": [
    "# Constants\n",
    "load_dotenv(override=True)\n",
    "api_key = os.getenv('OPENAI_API_KEY')\n",
    "openai = OpenAI()\n",
    "\n",
    "OLLAMA_API = \"http://localhost:11434/api/chat\"\n",
    "HEADERS = {\"Content-Type\": \"application/json\"}\n",
    "MODEL = \"llama3.2\""
   ]
  },
  {
   "cell_type": "code",
   "execution_count": 4,
   "id": "dac0a679-599c-441f-9bf2-ddc73d35b940",
   "metadata": {},
   "outputs": [],
   "source": [
    "# Create a messages list using the same format that we used for OpenAI\n",
    "\n",
    "messages = [\n",
    "    {\"role\": \"user\", \"content\": \"Describe some of the business applications of Generative AI\"}\n",
    "]"
   ]
  },
  {
   "cell_type": "code",
   "execution_count": 5,
   "id": "7bb9c624-14f0-4945-a719-8ddb64f66f47",
   "metadata": {},
   "outputs": [],
   "source": [
    "payload = {\n",
    "        \"model\": MODEL,\n",
    "        \"messages\": messages,\n",
    "        \"stream\": False\n",
    "    }"
   ]
  },
  {
   "cell_type": "code",
   "execution_count": 6,
   "id": "479ff514-e8bd-4985-a572-2ea28bb4fa40",
   "metadata": {
    "scrolled": true
   },
   "outputs": [
    {
     "name": "stderr",
     "output_type": "stream",
     "text": [
      "\u001b[?25lpulling manifest â ‹ \u001b[?25h\u001b[?25l\u001b[2K\u001b[1Gpulling manifest â ™ \u001b[?25h\u001b[?25l\u001b[2K\u001b[1Gpulling manifest â ¹ \u001b[?25h\u001b[?25l\u001b[2K\u001b[1Gpulling manifest â ¸ \u001b[?25h\u001b[?25l\u001b[2K\u001b[1Gpulling manifest â ¼ \u001b[?25h\u001b[?25l\u001b[2K\u001b[1Gpulling manifest â ´ \u001b[?25h\u001b[?25l\u001b[2K\u001b[1Gpulling manifest â ¦ \u001b[?25h\u001b[?25l\u001b[2K\u001b[1Gpulling manifest â § \u001b[?25h\u001b[?25l\u001b[2K\u001b[1Gpulling manifest â ‡ \u001b[?25h\u001b[?25l\u001b[2K\u001b[1Gpulling manifest â � \u001b[?25h\u001b[?25l\u001b[2K\u001b[1Gpulling manifest â ‹ \u001b[?25h\u001b[?25l\u001b[2K\u001b[1Gpulling manifest â ™ \u001b[?25h\u001b[?25l\u001b[2K\u001b[1Gpulling manifest â ¹ \u001b[?25h\u001b[?25l\u001b[2K\u001b[1Gpulling manifest â ¸ \u001b[?25h\u001b[?25l\u001b[2K\u001b[1Gpulling manifest â ¼ \u001b[?25h\u001b[?25l\u001b[2K\u001b[1Gpulling manifest â ´ \u001b[?25h\u001b[?25l\u001b[2K\u001b[1Gpulling manifest â ¦ \u001b[?25h\u001b[?25l\u001b[2K\u001b[1Gpulling manifest â § \u001b[?25h\u001b[?25l\u001b[2K\u001b[1Gpulling manifest â ‡ \u001b[?25h\u001b[?25l\u001b[2K\u001b[1Gpulling manifest â � \u001b[?25h\u001b[?25l\u001b[2K\u001b[1Gpulling manifest â ‹ \u001b[?25h\u001b[?25l\u001b[2K\u001b[1Gpulling manifest â ™ \u001b[?25h\u001b[?25l\u001b[2K\u001b[1Gpulling manifest â ¹ \u001b[?25h\u001b[?25l\u001b[2K\u001b[1Gpulling manifest â ¸ \u001b[?25h\u001b[?25l\u001b[2K\u001b[1Gpulling manifest â ¼ \u001b[?25h\u001b[?25l\u001b[2K\u001b[1Gpulling manifest â ´ \u001b[?25h\u001b[?25l\u001b[2K\u001b[1Gpulling manifest â ¦ \u001b[?25h\u001b[?25l\u001b[2K\u001b[1Gpulling manifest â § \u001b[?25h\u001b[?25l\u001b[2K\u001b[1Gpulling manifest â ‡ \u001b[?25h\u001b[?25l\u001b[2K\u001b[1Gpulling manifest â � \u001b[?25h\u001b[?25l\u001b[2K\u001b[1Gpulling manifest \n",
      "pulling dde5aa3fc5ff... 100% â–•â–ˆâ–ˆâ–ˆâ–ˆâ–ˆâ–ˆâ–ˆâ–ˆâ–ˆâ–ˆâ–ˆâ–ˆâ–ˆâ–ˆâ–ˆâ–ˆâ–� 2.0 GB                         \n",
      "pulling 966de95ca8a6... 100% â–•â–ˆâ–ˆâ–ˆâ–ˆâ–ˆâ–ˆâ–ˆâ–ˆâ–ˆâ–ˆâ–ˆâ–ˆâ–ˆâ–ˆâ–ˆâ–ˆâ–� 1.4 KB                         \n",
      "pulling fcc5a6bec9da... 100% â–•â–ˆâ–ˆâ–ˆâ–ˆâ–ˆâ–ˆâ–ˆâ–ˆâ–ˆâ–ˆâ–ˆâ–ˆâ–ˆâ–ˆâ–ˆâ–ˆâ–� 7.7 KB                         \n",
      "pulling a70ff7e570d9... 100% â–•â–ˆâ–ˆâ–ˆâ–ˆâ–ˆâ–ˆâ–ˆâ–ˆâ–ˆâ–ˆâ–ˆâ–ˆâ–ˆâ–ˆâ–ˆâ–ˆâ–� 6.0 KB                         \n",
      "pulling 56bb8bd477a5... 100% â–•â–ˆâ–ˆâ–ˆâ–ˆâ–ˆâ–ˆâ–ˆâ–ˆâ–ˆâ–ˆâ–ˆâ–ˆâ–ˆâ–ˆâ–ˆâ–ˆâ–�   96 B                         \n",
      "pulling 34bb5ab01051... 100% â–•â–ˆâ–ˆâ–ˆâ–ˆâ–ˆâ–ˆâ–ˆâ–ˆâ–ˆâ–ˆâ–ˆâ–ˆâ–ˆâ–ˆâ–ˆâ–ˆâ–�  561 B                         \n",
      "verifying sha256 digest \n",
      "writing manifest \n",
      "success \u001b[?25h\n"
     ]
    }
   ],
   "source": [
    "# Let's just make sure the model is loaded\n",
    "\n",
    "!ollama pull llama3.2"
   ]
  },
  {
   "cell_type": "code",
   "execution_count": 7,
   "id": "42b9f644-522d-4e05-a691-56e7658c0ea9",
   "metadata": {
    "collapsed": true,
    "jupyter": {
     "outputs_hidden": true
    }
   },
   "outputs": [
    {
     "data": {
      "text/markdown": [
       "Generative AI has numerous business applications across various industries, including:\n",
       "\n",
       "1. **Content Creation**: Generative AI can create high-quality content such as articles, social media posts, and product descriptions, saving time and resources for businesses.\n",
       "2. **Marketing and Advertising**: Generative AI can generate personalized ad copy, product images, and videos, allowing for more targeted and effective marketing campaigns.\n",
       "3. **Product Design**: Generative AI can design new products, packaging, and branding materials, streamlining the product development process.\n",
       "4. **Customer Service Chatbots**: Generative AI-powered chatbots can provide 24/7 customer support, responding to common inquiries and freeing up human customer support agents for more complex issues.\n",
       "5. **Personalized Recommendations**: Generative AI can analyze user data and behavior to generate personalized product recommendations, improving the overall customer experience.\n",
       "6. **Data Analysis and Visualization**: Generative AI can create interactive visualizations and reports to help businesses understand their data, making it easier to identify trends and insights.\n",
       "7. **Image and Video Generation**: Generative AI can create high-quality images and videos for social media, marketing materials, and other applications.\n",
       "8. **Music and Audio Creation**: Generative AI can compose music and generate audio effects, opening up new possibilities for music creation and sound design.\n",
       "9. **Fashion Design**: Generative AI can create new fashion designs, allowing for faster and more efficient product development.\n",
       "10. **Supply Chain Optimization**: Generative AI can analyze data from various sources to predict supply chain disruptions and optimize inventory management.\n",
       "11. **Financial Modeling and Forecasting**: Generative AI can analyze financial data and generate forecasts, helping businesses make informed investment decisions.\n",
       "12. **Language Translation**: Generative AI can translate languages in real-time, breaking language barriers for international communication.\n",
       "\n",
       "Some specific business applications of Generative AI include:\n",
       "\n",
       "* **Amazon's Content Generation**: Amazon uses generative AI to create product descriptions, customer reviews, and even entire books.\n",
       "* **Google's Ad Creative Optimization**: Google uses generative AI to optimize ad creative, improving click-through rates and conversions.\n",
       "* **Nike's Product Design**: Nike uses generative AI to design new products and packaging materials, reducing development time and costs.\n",
       "* **Netflix's Content Recommendation**: Netflix uses generative AI to recommend content to users based on their viewing history and preferences.\n",
       "\n",
       "These are just a few examples of the many business applications of Generative AI. As the technology continues to evolve, we can expect to see even more innovative use cases across various industries."
      ],
      "text/plain": [
       "<IPython.core.display.Markdown object>"
      ]
     },
     "metadata": {},
     "output_type": "display_data"
    }
   ],
   "source": [
    "# If this doesn't work for any reason, try the 2 versions in the following cells\n",
    "# And double check the instructions in the 'Recap on installation of Ollama' at the top of this lab\n",
    "# And if none of that works - contact me!\n",
    "\n",
    "response = requests.post(OLLAMA_API, json=payload, headers=HEADERS)\n",
    "# print(response.json()['message']['content'])\n",
    "display(Markdown(response.json()['message']['content']))"
   ]
  },
  {
   "cell_type": "markdown",
   "id": "6a021f13-d6a1-4b96-8e18-4eae49d876fe",
   "metadata": {},
   "source": [
    "# Introducing the ollama package\n",
    "\n",
    "And now we'll do the same thing, but using the elegant ollama python package instead of a direct HTTP call.\n",
    "\n",
    "Under the hood, it's making the same call as above to the ollama server running at localhost:11434"
   ]
  },
  {
   "cell_type": "code",
   "execution_count": 11,
   "id": "7745b9c4-57dc-4867-9180-61fa5db55eb8",
   "metadata": {
    "collapsed": true,
    "jupyter": {
     "outputs_hidden": true
    }
   },
   "outputs": [
    {
     "data": {
      "text/markdown": [
       "Generative AI has numerous business applications across various industries, including:\n",
       "\n",
       "1. **Content Generation**: Generative AI can create high-quality content such as articles, social media posts, product descriptions, and more. This can help reduce content creation costs and increase efficiency.\n",
       "2. **Personalization**: Generative AI can generate personalized content, such as product recommendations, customer service responses, and marketing materials, tailored to individual customers' preferences.\n",
       "3. **Image and Video Generation**: Generative AI can create realistic images and videos for applications like advertising, entertainment, and education. This can help reduce the need for expensive photography or video production services.\n",
       "4. **Predictive Maintenance**: Generative AI can analyze data from sensors and machines to predict when maintenance is required, reducing downtime and increasing overall efficiency.\n",
       "5. **Chatbots and Virtual Assistants**: Generative AI can power chatbots and virtual assistants that provide 24/7 customer support, helping businesses improve customer engagement and reduce costs.\n",
       "6. **Market Research and Analysis**: Generative AI can analyze large datasets to identify trends, patterns, and insights, providing valuable information for market research and analysis.\n",
       "7. **Influencer Marketing**: Generative AI can generate content and images featuring fictional influencers, reducing the need for expensive influencer marketing campaigns.\n",
       "8. **Automated Transcription**: Generative AI can automatically transcribe audio and video recordings, saving time and increasing efficiency in industries like media, education, and customer service.\n",
       "9. **Creative Collaboration**: Generative AI can collaborate with human creatives to generate new ideas, concepts, and designs, enhancing the creative process and reducing costs.\n",
       "10. **Financial Analysis**: Generative AI can analyze large datasets of financial transactions to identify patterns, trends, and potential risks, helping businesses make more informed investment decisions.\n",
       "\n",
       "Some specific business use cases for Generative AI include:\n",
       "\n",
       "* **Customer service**: Generate personalized responses to customer inquiries using chatbots or virtual assistants.\n",
       "* **Marketing automation**: Use Generative AI to generate targeted marketing campaigns, such as email newsletters, social media posts, and product descriptions.\n",
       "* **Product development**: Collaborate with human designers to generate new product ideas, prototypes, and designs using Generative AI tools.\n",
       "* **Supply chain optimization**: Analyze sensor data from machines and predict when maintenance is required, reducing downtime and increasing efficiency.\n",
       "\n",
       "These are just a few examples of the many business applications of Generative AI. As the technology continues to evolve, we can expect to see even more innovative uses across various industries."
      ],
      "text/plain": [
       "<IPython.core.display.Markdown object>"
      ]
     },
     "metadata": {},
     "output_type": "display_data"
    }
   ],
   "source": [
    "import ollama\n",
    "\n",
    "response = ollama.chat(model=MODEL, messages=messages)\n",
    "display(Markdown(response['message']['content']))"
   ]
  },
  {
   "cell_type": "markdown",
   "id": "a4704e10-f5fb-4c15-a935-f046c06fb13d",
   "metadata": {},
   "source": [
    "## Alternative approach - using OpenAI python library to connect to Ollama"
   ]
  },
  {
   "cell_type": "code",
   "execution_count": 11,
   "id": "23057e00-b6fc-4678-93a9-6b31cb704bff",
   "metadata": {
    "collapsed": true,
    "jupyter": {
     "outputs_hidden": true
    }
   },
   "outputs": [
    {
     "data": {
      "text/markdown": [
       "Generative AI, a type of artificial intelligence (AI) that can generate new data, content, or patterns based on existing information, has numerous business applications across various industries. Here are some examples:\n",
       "\n",
       "1. **Content Creation**: Generative AI can help businesses generate high-quality content such as articles, social media posts, and product descriptions. This can save time and resources previously spent on human content creation.\n",
       "2. **Personalization**: Generative AI can be used to personalize customer experiences by generating customized product recommendations, email campaigns, and advertising messages based on individual preferences and behavior.\n",
       "3. **Automated Marketing**: Generative AI can automate marketing tasks such as lead generation, email nurturing, and social media posting, freeing up resources for more creative and high-value tasks.\n",
       "4. **Image and Video Generation**: Generative AI can generate high-quality images and videos for use in various applications, such as product demos, tutorials, and marketing materials.\n",
       "5. **Audio Generation**: Generative AI can generate music, podcasts, and voiceovers that are tailored to specific brands or products, enhancing the overall customer experience.\n",
       "6. **Product Design and Development**: Generative AI can assist in designing and developing new products by generating concepts, simulations, and prototypes based on existing designs and trends.\n",
       "7. **Chatbots and Virtual Assistants**: Generative AI can power chatbots and virtual assistants that provide personalized support to customers and answer frequently asked questions.\n",
       "8. **Predictive Analytics**: Generative AI can help analyze large datasets to identify patterns and predict future outcomes, enabling more informed business decisions.\n",
       "9. **Customer Service**: Generative AI can be used to generate responses to common customer queries, freeing up human customer support agents to focus on more complex issues.\n",
       "10. **Innovation and R&D**: Generative AI can accelerate innovation by generating new ideas, iterating designs, and exploring unconventional solutions to complex problems.\n",
       "\n",
       "Some specific business models that leverage generative AI include:\n",
       "\n",
       "1. **Creative Agencies**: Freelance creative agencies that specialize in generating high-quality content using generative AI tools.\n",
       "2. **AI-Powered Product Development**: Companies that use generative AI to design, develop, and launch new products more quickly and efficiently.\n",
       "3. **Artificial Content Creation Services**: Businesses that offer customized content creation services using generative AI for clients across various industries.\n",
       "4. **Predictive Analytics Services**: Companies that provide predictive analytics services using generative AI to help businesses make informed decisions.\n",
       "\n",
       "These are just a few examples of the many business applications and industries that can leverage generative AI to drive innovation, efficiency, and growth."
      ],
      "text/plain": [
       "<IPython.core.display.Markdown object>"
      ]
     },
     "metadata": {},
     "output_type": "display_data"
    }
   ],
   "source": [
    "# There's actually an alternative approach that some people might prefer\n",
    "# You can use the OpenAI client python library to call Ollama:\n",
    "\n",
    "from openai import OpenAI\n",
    "ollama_via_openai = OpenAI(base_url='http://localhost:11434/v1', api_key='ollama')\n",
    "\n",
    "response = ollama_via_openai.chat.completions.create(\n",
    "    model=MODEL,\n",
    "    messages=messages\n",
    ")\n",
    "\n",
    "display(Markdown(response.choices[0].message.content))"
   ]
  },
  {
   "cell_type": "markdown",
   "id": "1622d9bb-5c68-4d4e-9ca4-b492c751f898",
   "metadata": {},
   "source": [
    "# NOW the exercise for you\n",
    "\n",
    "Take the code from day1 and incorporate it here, to build a website summarizer that uses Llama 3.2 running locally instead of OpenAI; use either of the above approaches."
   ]
  },
  {
   "cell_type": "code",
   "execution_count": 7,
   "id": "402d5686-4e76-4110-b65a-b3906c35c0a4",
   "metadata": {},
   "outputs": [],
   "source": [
    "headers = {\n",
    " \"User-Agent\": \"Mozilla/5.0 (Windows NT 10.0; Win64; x64) AppleWebKit/537.36 (KHTML, like Gecko) Chrome/117.0.0.0 Safari/537.36\"\n",
    "}\n",
    "\n",
    "class Website:\n",
    "    \"\"\"\n",
    "    Basic class that represents essential attributes of website\n",
    "    \"\"\"\n",
    "    def __init__(self, url):\n",
    "        \"\"\"Constructor\"\"\"\n",
    "        self.url = url\n",
    "        self.headers = headers\n",
    "        response = requests.get(url=self.url, headers=self.headers)\n",
    "        soup = BeautifulSoup(response.content, 'html.parser')\n",
    "        self.title = soup.title.string if soup.title else 'No title found'\n",
    "        for irrelevant in soup.body(['style','script','img','input']):\n",
    "            irrelevant.decompose()\n",
    "        self.text = soup.body.get_text(separator='/n', strip=True)\n",
    "        "
   ]
  },
  {
   "cell_type": "code",
   "execution_count": 8,
   "id": "d8d0f112-5c38-4cfa-9e1c-5613307bc6a3",
   "metadata": {
    "collapsed": true,
    "jupyter": {
     "outputs_hidden": true
    }
   },
   "outputs": [
    {
     "name": "stdout",
     "output_type": "stream",
     "text": [
      "SUBJECTS/nSUBJECTS/nLanguage/nMath/nMusic/nINSIDE DUOLINGO/nAnnouncements/nDesign/nEngineering/nProduct/nLife at Duolingo/nSITE LANGUAGE/nDeutsch/nEnglish/nEspañol/nFrançais/nPortuguês/n日本語/nApril 4, 2023/nKristina Schoen, Ph.D./nDear Duolingo: Can video games help you learn a language?/nHere's your very own cheat code to level up your learning!/nApr 4/nKristina Schoen, Ph.D./nRich Forest, Ph.D./nWelcome to another week of Dear Duolingo, an advice column just for language learners. Catch up on past installments/nhere/n./nHi there, learners! This week, Dear Duolingo is a team effort—which is appropriate given this week's question! We're Dr. Kristina Schoen, who you might remember from posts on/ngrammatical gender/nand/npossessive pronouns/nin German, and Dr. Rich Forest, Duolingo Learning and Curriculum Manager./nThis is Rich's first Dear Duolingo post! Before joining Duolingo, he was an associate professor of English and taught English as a second language in the U.S., Japan, and Hong Kong./nOur teaching experiences involve different languages, but that's not what we're writing about today—instead, this week, we're answering a question about another one of our passions! Let's take a look./nOur question this week:/nOh, Language Noob, we're so glad for the chance to talk about language learning with video games! 😍 In fact, we also talked to two fellow language learners and gamers at Duolingo, Karl Channell (Principal Product Designer) and Shawn Buessing (Senior Engineering Manager) to get even more recommendations to share./nUsing video games to support language learning isn't just a hobby—there are whole fields of research, like CALL (Computer Assisted Language Learning) and DGBLL (Digital Game-Based Language Learning), focused on how gamers use these tools for learning (intentionally or not). Which means you might already be able to guess the answer to Language Noob's question…/nAre video games good for language learning?/nAbsolutely! Because players are highly motivated to succeed in the game and talk with other players—whether to collaborate, compete, or gather information—players end up doing exactly what us language teachers are/nalways encouraging/n: They just/ncommunicate!/nPlayers focus so much on getting their point across, in order to do something else with the information (like understand a task, avoid danger, or order a hamburger in Yakuza!). It helps that video games are controlled environments that remove some of the more intimidating variables of/npracticing a new language/nin the real world, and many learners find them more/nengaging and motivating/nthan other kinds of practice because you drive learning through your own curiosity and interest. (You can read more about some of these topics in/nReality is Broken/nby Jane McGonigal.)/nWe'll get to the other linguistic benefits of playing a game in the language you're studying, but there are more general skills that gamers are building that they can leverage for their language learning:/nGamers are good at integrating lots of information./nEducators call this/nmultiliteracy/n—proficiency in gathering and assessing lots of kinds of information. Gamers have to learn how to pay attention to many different elements and sources of information in order to be successful!/nGamers are good at combining and compounding skills./nAs gamers progress through more advanced levels and challenges, they build and practice a lot of/ndifferent skills/n—and success means learning to use those skills together! This kind of flexibility and applying familiar skills in new ways is exactly what is required of language learners./nGamers are good at absorbing information./nMany games, and levels within a game, start with a tutorial: a safe place for learning the mechanics and controls of the games without serious consequences. Sometimes, tutorials are embedded into the game's narrative, so players don't even realize they're learning something new!/nGamers are good at taking on new identities./nPlayers typically take on a persona, goal, and personality quite different from their usual ones—it's a chance to step into a whole new world (and worldview!) and learn from others in that space. Language learning also encourages us to see ourselves in new ways and/nin relation to new people and cultures/n./nVideo game recommendations for language learners/nTo practice your new language, think about the skills you'd like to focus on—different games will help you build different skills! For example, some games use more on-screen dialogues and subtitles than others, and games vary with how much they require you to communicate with other gamers./nHere are some things to consider when choosing games to support your learning:/nHow are dialogues presented?/nEarlier learners may want to choose games with click-through dialogues (like/nPokémon/n), so they can read at their own pace. More advanced learners can practice listening skills with more naturalistic dialogues, which might go by fast and can't always be replayed—which is tough for learners *and* means you might miss out on important narrative information!/nDo you want to use the language for gameplay?/nConsider whether you want to interact with other people in the language in real time to accomplish tasks within the game (like in/nWorld of Warcraft/n), or whether you prefer for interaction (language practice!) to be mostly outside the game space, like for fun and to meet new people (like in/nCall of Duty/n)./nWhat language do you want to practice?/nWhen choosing a new game, consider the developer. Popular off-the-shelf games from big developers might have high-quality subtitles and even dubbing. For those interested in European languages (like German!), European companies are more likely to provide support in European languages. For Japanese learners, there is no shortage of Japanese role-playing games (JRPGs) to choose from. For example,/nPersona 5/nis especially reliant on dialogue, which makes for great practice!/nIf you're a beginner…/nStart with single-player games, so that you get comfortable using the new language on your own in the game before interacting with other players. Think of/nThe Sims,/nwhich can be good for working on vocabulary, especially with everyday items and situations—and since the Sims don't talk, you can focus on text-based interactions that you can control! Other construction and management simulator games, like/nTycoon Simulator,/nwill also be helpful for building vocabulary. Another fun option is/nThe Stanley Parable,/nwhich has a really quirky and mysterious narrative… and you can't lose! A narrator describes what you're doing, telling you what to do next and what you're not allowed to do, and whether you obey or not, you just keep getting more commentary./nIf you're more intermediate…/nNarrative games might be just what you're looking for! These will give you quite a bit of language practice since they typically provide a TON of context to all your senses, which will help you/nunderstand and reinforce/nmore of the language. You'll find that narrative games will rely on language to varying degrees, so some will demand a lot of comprehension to fully participate in the gameplay experience, and others will require much less. Some of our favorites are/nDear Esther/nand/nThe Vanishing of Ethan Carter./nIf you're an advanced learner…/nYou might be ready for some especially language-rich options!/nDisco Elysium/nis great for this, if you're ready for some darker themes, because it includes lots of language, and much of it can be read through at the player's own pace. The narrative is super rich, too, more like a tabletop role-playing game (TTRPG) in a digital format./nFor the truly adventurous!/nYou can change the system language in your console to change the gameplay language of some games! Be sure you're ready for this step, though… you'll want to be able to navigate in the new language to the console's menu and not just in the game itself. You'll want to know how to change it back! 😅 This option won't switch the gameplay language of all games, since it depends on which languages the game publisher supports for the particular games./nFor example, on Nintendo Switch, you can play/nSkyrim/nand/nThe Legend of Zelda: Breath of the Wild/nin German if you change your system language to German—but changing the system language to Japanese only gets you the Japanese version of/nBreath of the Wild/n(not/nSkyrim)./nEvery hobby can support your learning!/nConnecting your hobbies and interests with language learning is a great way to stay motivated and to get language practice in without even noticing it—but there are extra learning advantages for gamers!/nFor more answers to your language and learning questions, get in touch with us by emailing/ndearduolingo@duolingo.com/n./nTAGS/nLearning/nDear Duolingo/nLanguage/nTips and Tricks/nFun/nSHARE ARTICLE/nRELATED ARTICLES/nJan 2/nAroline Hanson, Ph.D./nAn easy trick for identifying the subject in Spanish/nDec 24/nElizabeth Onstwedder/nDear Duolingo: Why can learning feel overwhelming?/nDec 17/nAroline Hanson, Ph.D./nEnglish vocabulary, phrases, and grammar for parts of the body/nRELATED ARTICLES/nJan 2/nAroline Hanson, Ph.D./nAn easy trick for identifying the subject in Spanish/nDec 24/nElizabeth Onstwedder/nDear Duolingo: Why can learning feel overwhelming?/nDec 17/nAroline Hanson, Ph.D./nEnglish vocabulary, phrases, and grammar for parts of the body/nAbout us/nCourses/nMission/nApproach/nEfficacy/nTeam/nResearch/nCareers/nBrand guidelines/nPress/nInvestors/nContact us/nProducts/nDuolingo/nDuolingo English Test/nDuolingo for Business/nSuper Duolingo/nStore/nApps/nDuolingo Apps/nDuolingo for Desktop/nDuolingo for Android/nDuolingo for iOS/nHelp and support/nDuolingo FAQs/nDuolingo English Test FAQs/nStatus/nPrivacy and terms/nCommunity guidelines/nTerms/nPrivacy/nRespecting your \"do not sell my personal information\" rights/nSocial/nBlog/nInstagram/nFacebook/nYouTube/nTikTok/nLinkedIn/nX/nSite language:/nDeutsch/nEnglish/nEspañol/nFrançais/nPortuguês/n日本語/n©2025 Duolingo. All rights reserved./nAbout us/nPress/nCareers/nHelp and support/nPrivacy and terms/n©2025 Duolingo. All rights reserved.\n"
     ]
    }
   ],
   "source": [
    "duo = Website(\"https://blog.duolingo.com/video-games-for-language-learning/\")\n",
    "\n",
    "print(duo.text)    "
   ]
  },
  {
   "cell_type": "code",
   "execution_count": 9,
   "id": "806328d2-fa27-4a94-9a86-6b14e18252a2",
   "metadata": {},
   "outputs": [],
   "source": [
    "QWEN = 'qwen2.5'\n",
    "LLAMA = 'llama3.2'\n",
    "MISTRAL = 'mistral'\n",
    "MESSAGES = [\n",
    "    {'role' : 'system', 'content' : 'You are a website summarizer,\\\n",
    "    your job is to summarize web scraped data,\\\n",
    "    while ignoring navigation, contact and other irrelevant data about website.\\\n",
    "    give response in markdown format'},\n",
    "    {'role' : 'user', 'content' : duo.text}\n",
    "]\n"
   ]
  },
  {
   "cell_type": "code",
   "execution_count": 46,
   "id": "23294a1f-a7e7-450e-a970-b8065f802f93",
   "metadata": {
    "collapsed": true,
    "jupyter": {
     "outputs_hidden": true
    }
   },
   "outputs": [
    {
     "data": {
      "text/markdown": [
       "This article from Duolingo provides a detailed guide on how to use gaming as a tool for language learning, focusing particularly on English but with broader applications. Here’s a summary of the key points:\n",
       "\n",
       "### Why Use Gaming for Language Learning?\n",
       "- **Engagement**: Gamification makes learning more fun and engaging.\n",
       "- **Practice without Real Consequences**: You can practice using the new language in safe environments before real-world interactions.\n",
       "- **Contextual Learning**: Games provide rich, context-rich scenarios that help reinforce vocabulary and grammar.\n",
       "\n",
       "### Tips for Different Levels\n",
       "\n",
       "#### Beginner Level:\n",
       "- **Single-player Games**: Start with games like The Sims or Tycoon Simulator where you can focus on text-based interactions.\n",
       "- **Controlled Practice**: Games like The Stanley Parable offer a quirky narrative but are forgiving, allowing players to practice without losing the game.\n",
       "\n",
       "#### Intermediate Level:\n",
       "- **Narrative-Based Games**: These games provide ample context and require comprehension. Examples include Dear Esther or The Vanishing of Ethan Carter.\n",
       "\n",
       "#### Advanced Learners:\n",
       "- **Rich Text Games**: Disco Elysium is recommended for its extensive dialogue and rich narrative.\n",
       "- **System Language Changes**: For the truly adventurous, changing your console’s system language can immerse you in the game but requires caution to ensure navigation through menus is possible in the new language.\n",
       "\n",
       "### Specific Recommendations\n",
       "- **The Sims** - Great for vocabulary practice with everyday items.\n",
       "- **Tycoon Simulator** - Useful for construction and management terms.\n",
       "- **Disco Elysium** - Rich dialogue and narrative suitable for advanced learners.\n",
       "- **System Language Changes**: Possible on consoles but requires careful planning to navigate menus.\n",
       "\n",
       "### Extra Tips\n",
       "- **Connect Hobbies with Learning**: Engage in your favorite games while improving your language skills.\n",
       "- **Stay Motivated**: Use games as a way to practice without the pressure of traditional learning methods.\n",
       "\n",
       "### Conclusion\n",
       "Using gaming for language learning can be highly effective, offering both fun and substantial learning benefits. Whether you’re a beginner or an advanced learner, there are many ways to integrate gaming into your language study plan.\n",
       "\n",
       "For more specific guidance or additional questions about language and learning, Duolingo encourages users to reach out via email.\n",
       "\n",
       "---\n",
       "\n",
       "This comprehensive guide should help anyone looking to incorporate gaming into their language-learning journey effectively."
      ],
      "text/plain": [
       "<IPython.core.display.Markdown object>"
      ]
     },
     "metadata": {},
     "output_type": "display_data"
    }
   ],
   "source": [
    "qwen_response = ollama.chat(model=QWEN, messages=MESSAGES)\n",
    "display(Markdown(qwen_response['message']['content']))"
   ]
  },
  {
   "cell_type": "code",
   "execution_count": 49,
   "id": "470809ff-2fa3-4987-8fd0-05511d925217",
   "metadata": {
    "collapsed": true,
    "jupyter": {
     "outputs_hidden": true
    }
   },
   "outputs": [
    {
     "data": {
      "text/markdown": [
       "This article is from the website of Duolingo, a popular language-learning platform. The article discusses how playing games can be a fun and effective way to learn languages, leveraging the existing skills and interests of gamers.\n",
       "\n",
       "The article highlights several examples of how certain types of games can provide valuable language practice:\n",
       "\n",
       "1. **Single-player games**: Games like \"The Sims\" or \"Tycoon Simulator\" are good for beginners who want to get comfortable with using a new language on their own.\n",
       "2. **Narrative games**: Games like \"Dear Esther\" and \"The Vanishing of Ethan Carter\" offer a rich linguistic experience, requiring comprehension to fully participate in the gameplay experience.\n",
       "3. **RPGs (Role-Playing Games)**: Games like \"Skyrim\" or \"The Legend of Zelda: Breath of the Wild\" can provide language practice by offering multiple languages as options.\n",
       "\n",
       "Additionally, the article suggests that:\n",
       "\n",
       "1. **Changing system languages** on consoles can also be used to change the gameplay language of some games.\n",
       "2. **Connecting hobbies and interests with language learning** is a great way to stay motivated and get language practice in without even noticing it.\n",
       "\n",
       "The article concludes by highlighting Duolingo's mission to make language learning accessible, fun, and engaging for all learners.\n",
       "\n",
       "Overall, this article promotes the idea that gaming can be a valuable tool for language learning, leveraging existing skills and interests while providing unique linguistic benefits."
      ],
      "text/plain": [
       "<IPython.core.display.Markdown object>"
      ]
     },
     "metadata": {},
     "output_type": "display_data"
    }
   ],
   "source": [
    "llama_response = ollama.chat(model=LLAMA, messages=MESSAGES)\n",
    "display(Markdown(llama_response['message']['content']))"
   ]
  },
  {
   "cell_type": "code",
   "execution_count": 58,
   "id": "e55e4895-58d0-4f64-a915-52696f6340b9",
   "metadata": {
    "collapsed": true,
    "jupyter": {
     "outputs_hidden": true
    }
   },
   "outputs": [
    {
     "data": {
      "text/markdown": [
       "# Summary of \"Dear Duolingo\" Column on Video Games and Language Learning\n",
       "\n",
       "## Overview\n",
       "In the April 4, 2023 edition of the \"Dear Duolingo\" column, Dr. Kristina Schoen and Dr. Rich Forest discuss how video games can facilitate language learning. They collaborate with fellow Duolingo team members Karl Channell and Shawn Buessing to provide insights on this subject.\n",
       "\n",
       "## Key Points\n",
       "\n",
       "### The Benefits of Video Games for Language Learning\n",
       "- **Motivation**: Players are driven to engage with the language to succeed in the game.\n",
       "- **Communication**: Gamers naturally practice communication to perform tasks, avoiding the intimidation often felt in real-world situations.\n",
       "- **Skill Development**: Games promote \"multiliteracy,\" integration of various skills, and the ability to absorb complex information.\n",
       "\n",
       "### Types of Skills Developed\n",
       "1. **Information Integration**: Gamers learn to assess multiple information sources.\n",
       "2. **Skill Compounding**: Players combine various skills as they progress.\n",
       "3. **Information Absorption**: Tutorials often blend into narratives, allowing players to learn mechanics seamlessly.\n",
       "4. **Identity Exploration**: Players adopt new personas, enhancing understanding of different cultures and perspectives.\n",
       "\n",
       "### Game Recommendations by Skill Level\n",
       "- **Beginners**: Start with single-player games (e.g., *The Sims*, *Tycoon Simulator*) to build vocabulary with controlled text interactions.\n",
       "- **Intermediate Learners**: Narrative-driven games (e.g., *Dear Esther*, *The Vanishing of Ethan Carter*) provide rich contexts for language practice.\n",
       "- **Advanced Learners**: Complex games with extensive language use (e.g., *Disco Elysium*), which can be approached at a personal pace.\n",
       "- **For the Adventurous**: Change console system language for immersive gameplay experiences in different languages.\n",
       "\n",
       "## Conclusion\n",
       "Incorporating video games into language learning offers engaging, immersive opportunities that align well with individuals' interests and hobbies. This connection not only makes learning enjoyable but also enhances the language acquisition process by leveraging the inherent motivational aspects of gaming. \n",
       "\n",
       "For further inquiries or questions related to language learning, readers are encouraged to reach out via email."
      ],
      "text/plain": [
       "<IPython.core.display.Markdown object>"
      ]
     },
     "metadata": {},
     "output_type": "display_data"
    }
   ],
   "source": [
    "chatgpt_response = openai.chat.completions.create(model='gpt-4o-mini', messages=MESSAGES)\n",
    "display(Markdown(chatgpt_response.choices[0].message.content))"
   ]
  },
  {
   "cell_type": "code",
   "execution_count": 12,
   "id": "e1878e01-0099-45e8-aa18-6e9106b981bb",
   "metadata": {},
   "outputs": [
    {
     "data": {
      "text/markdown": [
       " To make the most of your language learning journey through gaming, here are some tips for gamers at different proficiency levels:\n",
       "\n",
       "1. Beginner Gamers: Look for games that have simple dialogue and clear visual cues to help you understand what's happening in the game. Games with a slow pace or easy difficulty settings can also be beneficial. Try narrative-driven games such as \"Journey\" or \"Monument Valley\" to immerse yourself in another language while enjoying beautiful graphics and engaging gameplay.\n",
       "\n",
       "2. Intermediate Gamers: Expand your vocabulary by playing games that require more communication with non-player characters (NPCs) or other players. Games like \"Life is Strange\" or \"The Sims\" can provide ample opportunities to practice conversations in a casual setting.\n",
       "\n",
       "3. Advanced Gamers: Step up your gameplay by changing the system language of some games to immerse yourself fully in the target language. Keep in mind that not all games support multiple languages, so make sure you're ready for this challenge before diving in. Games like \"The Witcher 3\" or \"Mass Effect\" have a wealth of dialogue and can help you refine your listening skills as well.\n",
       "\n",
       "4. Be prepared to encounter new vocabulary and grammar structures as you play, and don't be afraid to look up unfamiliar words or phrases. You can use online dictionaries, translation apps, or even ask for help from fellow gamers or language learners.\n",
       "\n",
       "5. Make use of subtitles in the target language when available. This can help reinforce your listening skills and improve comprehension as you play.\n",
       "\n",
       "6. Don't forget to practice speaking and pronunciation with others, both online and offline. Join language learning communities or find a language exchange partner to practice conversation in your target language regularly.\n",
       "\n",
       "7. Finally, have fun! Connecting your hobbies and interests with language learning can help you stay motivated and make the most of every gaming session."
      ],
      "text/plain": [
       "<IPython.core.display.Markdown object>"
      ]
     },
     "metadata": {},
     "output_type": "display_data"
    }
   ],
   "source": [
    "mistral_response = ollama.chat(model=MISTRAL, messages=MESSAGES)\n",
    "display(Markdown(mistral_response['message']['content']))"
   ]
  },
  {
   "cell_type": "code",
   "execution_count": null,
   "id": "099ff55b-836b-4ac1-9257-e49711af430e",
   "metadata": {},
   "outputs": [],
   "source": []
  }
 ],
 "metadata": {
  "kernelspec": {
   "display_name": "Python 3 (ipykernel)",
   "language": "python",
   "name": "python3"
  },
  "language_info": {
   "codemirror_mode": {
    "name": "ipython",
    "version": 3
   },
   "file_extension": ".py",
   "mimetype": "text/x-python",
   "name": "python",
   "nbconvert_exporter": "python",
   "pygments_lexer": "ipython3",
   "version": "3.11.11"
  }
 },
 "nbformat": 4,
 "nbformat_minor": 5
}
