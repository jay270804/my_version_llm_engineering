{
 "cells": [
  {
   "cell_type": "code",
   "execution_count": 45,
   "id": "8d2bb04e-9d25-4922-8dd7-6fd8519d6415",
   "metadata": {},
   "outputs": [],
   "source": [
    "import requests\n",
    "from bs4 import BeautifulSoup\n",
    "\n",
    "article_dict = {}\n",
    "base_url = 'https://refactoring.guru'\n",
    "endpoint = '/design-patterns/what-is-pattern'\n",
    "url = base_url + endpoint"
   ]
  },
  {
   "cell_type": "code",
   "execution_count": 46,
   "id": "5bfdcb98-02db-4c24-befc-890207c8e6d4",
   "metadata": {},
   "outputs": [
    {
     "data": {
      "text/plain": [
       "(\"/\\nDesign Patterns\\nWhat's a design pattern?\\nDesign patterns\\nare typical solutions to commonly occurring problems in software design. They are like pre-made blueprints that you can customize to solve a recurring design problem in your code.\\nYou can’t just find a pattern and copy it into your program, the way you can with off-the-shelf functions or libraries. The pattern is not a specific piece of code, but a general concept for solving a particular problem. You can follow the pattern details and implement a solution that suits the realities of your own program.\\nPatterns are often confused with algorithms, because both concepts describe typical solutions to some known problems. While an algorithm always defines a clear set of actions that can achieve some goal, a pattern is a more high-level description of a solution. The code of the same pattern applied to two different programs may be different.\\nAn analogy to an algorithm is a cooking recipe: both have clear steps to achieve a goal. On the other hand, a pattern is more like a blueprint: you can see what the result and its features are, but the exact order of implementation is up to you.\\nWhat does the pattern consist of?\\nMost patterns are described very formally so people can reproduce them in many contexts. Here are the sections that are usually present in a pattern description:\\nIntent\\nof the pattern briefly describes both the problem and the solution.\\nMotivation\\nfurther explains the problem and the solution the pattern makes possible.\\nStructure\\nof classes shows each part of the pattern and how they are related.\\nCode example\\nin one of the popular programming languages makes it easier to grasp the idea behind the pattern.\\nSome pattern catalogs list other useful details, such as applicability of the pattern, implementation steps and relations with other patterns.\",\n",
       " '/design-patterns/history')"
      ]
     },
     "execution_count": 46,
     "metadata": {},
     "output_type": "execute_result"
    }
   ],
   "source": [
    "def fetch_article(url):\n",
    "    response = requests.get(url=url)\n",
    "    soup = BeautifulSoup(response.content, 'html.parser')\n",
    "    for irr in soup.body(['style','script','img','input']):\n",
    "        irr.decompose()\n",
    "    # print(soup.body.get_text(separator='\\n', strip=True))\n",
    "    article = soup.body.find('article')\n",
    "    next_url = soup.body.find('div', attrs={'class':'next'}).a.get('href')\n",
    "    # print(article.get_text(separator='\\n', strip=True))\n",
    "    return article.get_text(separator='\\n', strip=True), next_url\n",
    "fetch_article(url)"
   ]
  },
  {
   "cell_type": "code",
   "execution_count": 47,
   "id": "6e96a23c-1090-40c3-88d1-2c54e3a63893",
   "metadata": {},
   "outputs": [],
   "source": [
    "while url.split('/')[-1]!='catalog':\n",
    "    article_dict[endpoint.split('/')[-1]], endpoint = fetch_article(url)\n",
    "    url = base_url + endpoint     "
   ]
  },
  {
   "cell_type": "code",
   "execution_count": 48,
   "id": "beafb1d6-4581-4b2d-86a0-7b152f9d1057",
   "metadata": {},
   "outputs": [
    {
     "name": "stdout",
     "output_type": "stream",
     "text": [
      "dict_keys(['what-is-pattern', 'history', 'why-learn-patterns', 'criticism', 'classification'])\n"
     ]
    }
   ],
   "source": [
    "print(article_dict.keys())"
   ]
  },
  {
   "cell_type": "code",
   "execution_count": 50,
   "id": "d660c1bd-7a9b-42fa-9d26-0433329e46d4",
   "metadata": {
    "collapsed": true,
    "jupyter": {
     "outputs_hidden": true
    }
   },
   "outputs": [
    {
     "name": "stdout",
     "output_type": "stream",
     "text": [
      "/\n",
      "Design Patterns\n",
      "Criticism of patterns\n",
      "It seems like only lazy people haven’t criticized design patterns yet. Let’s take a look at the most typical arguments against using patterns.\n",
      "Kludges for a weak programming language\n",
      "This point of view was first expressed by Paul Graham in the essay\n",
      "Revenge of the Nerds\n",
      ". Read more about this on this\n",
      "Wiki page\n",
      "Usually the need for patterns arises when people choose a programming language or a technology that lacks the necessary level of abstraction. In this case, patterns become a kludge that gives the language much-needed super-abilities.\n",
      "For example, the\n",
      "Strategy\n",
      "pattern can be implemented with a simple anonymous (lambda) function in most modern programming languages.\n",
      "Inefficient solutions\n",
      "Patterns try to systematize approaches that are already widely used. This unification is viewed by many as a dogma, and they implement patterns “to the letter”, without adapting them to the context of their project.\n",
      "Unjustified use\n",
      "If all you have is a hammer, everything looks like a nail.\n",
      "This is the problem that haunts many novices who have just familiarized themselves with patterns. Having learned about patterns, they try to apply them everywhere, even in situations where simpler code would do just fine.\n"
     ]
    }
   ],
   "source": [
    "print(article_dict['criticism'])"
   ]
  },
  {
   "cell_type": "code",
   "execution_count": 53,
   "id": "02845780-4bfe-4a97-acc4-454d5189770e",
   "metadata": {},
   "outputs": [],
   "source": [
    "import ollama \n",
    "from IPython.display import display, Markdown\n",
    "import json\n",
    "models = ['qwen2.5', 'mistral', 'llama3.2']\n",
    "summary_dict = {}\n",
    "MESSAGES = [\n",
    "    {\n",
    "        'role':'system',\n",
    "        'content':'You are a summarizer, Your job to give a extensive full summary from different articles provided to you,\\\n",
    "        avoid unnecessary website related data if it comes,\\\n",
    "        the data is provided as dictionary to you with title as keys and data as value,\\\n",
    "        focus on the article content only and give response as markdown.'\n",
    "    },\n",
    "    {\n",
    "        'role':'user',\n",
    "        'content':json.dumps(article_dict)\n",
    "    }\n",
    "]"
   ]
  },
  {
   "cell_type": "code",
   "execution_count": 54,
   "id": "dea077fe-5dfc-4443-9f69-e56fb6276bc5",
   "metadata": {},
   "outputs": [
    {
     "name": "stdout",
     "output_type": "stream",
     "text": [
      "Summary formed by qwen2.5\n",
      "Summary formed by mistral\n",
      "Summary formed by llama3.2\n",
      "All summaries gathered...\n",
      "Time taken:265.2491409778595\n"
     ]
    }
   ],
   "source": [
    "import time\n",
    "start_time = time.time()\n",
    "for i in models:\n",
    "    summary_dict[i] = ollama.chat(model=i, messages=MESSAGES)['message']['content']\n",
    "    print('Summary formed by',i)\n",
    "if len(summary_dict) == 3:\n",
    "    print('All summaries gathered...')\n",
    "else:\n",
    "    print('Not all summaries gathered...')\n",
    "print(f'Time taken:{time.time() - start_time}')\n"
   ]
  },
  {
   "cell_type": "code",
   "execution_count": 62,
   "id": "5cf20500-682d-4334-b188-3c74056be72e",
   "metadata": {},
   "outputs": [],
   "source": [
    "def printer(data):\n",
    "    data=data.strip(\"```\")\n",
    "    display(Markdown(data))"
   ]
  },
  {
   "cell_type": "code",
   "execution_count": 63,
   "id": "325c2cbd-a320-430e-b0e4-dbfafe968b68",
   "metadata": {},
   "outputs": [
    {
     "data": {
      "text/markdown": [
       "# Design Patterns\n",
       "\n",
       "## What is a design pattern?\n",
       "Design patterns are typical solutions to commonly occurring problems in software design. They serve as pre-made blueprints that you can customize to solve a recurring design problem in your code. [What's a design pattern?](#what-is-pattern)\n",
       "\n",
       "- **Intent**: A design pattern provides a general concept for solving a particular problem in software design.\n",
       "- **Motivation**: Further explains the problem and the solution that the pattern makes possible.\n",
       "- **Structure**: Shows each part of the pattern and how they are related.\n",
       "- **Code example**: Provides an example in one of the popular programming languages to make it easier to grasp the idea behind the pattern.\n",
       "- **Applicability**: Some catalogs list other useful details, such as the applicability of the pattern, implementation steps, and relations with other patterns.\n",
       "\n",
       "## History of patterns\n",
       "The concept of patterns was first described by Christopher Alexander in \"A Pattern Language: Towns, Buildings, Construction\". The idea was picked up by four authors who applied the concept of design patterns to programming in 1994 with the publication of \"Design Patterns: Elements of Reusable Object-Oriented Software\". Since then, dozens of other object-oriented patterns have been discovered.\n",
       "\n",
       "## Why should I learn patterns?\n",
       "Learning design patterns offers a toolkit of tried and tested solutions to common problems in software design. It teaches you how to solve all sorts of problems using principles of object-oriented design and defines a common language that you and your teammates can use to communicate more efficiently.\n",
       "\n",
       "## Criticism of patterns\n",
       "Despite their benefits, design patterns have been criticized for reasons such as:\n",
       "\n",
       "1. **Kludges for a weak programming language**: The need for patterns arises when people choose a programming language or a technology that lacks the necessary level of abstraction. In this case, patterns become a kludge to give the language much-needed super-abilities.\n",
       "2. **Inefficient solutions**: Patterns try to systematize approaches that are already widely used. This unification is viewed by many as a dogma, and they implement patterns \"to the letter\", without adapting them to the context of their project.\n",
       "3. **Unjustified use**: If all you have is a hammer, everything looks like a nail. This is the problem that haunts many novices who have just familiarized themselves with patterns. Having learned about patterns, they try to apply them everywhere, even in situations where simpler code would do just fine.\n",
       "\n",
       "## Classification of patterns\n",
       "Design patterns differ by their complexity, level of detail, and scale of applicability to the entire system being designed. The most basic and low-level patterns are often called idioms, while the most universal and high-level patterns are architectural patterns. All patterns can be categorized by their intent: Creational patterns, Structural patterns, and Behavioral patterns."
      ],
      "text/plain": [
       "<IPython.core.display.Markdown object>"
      ]
     },
     "metadata": {},
     "output_type": "display_data"
    }
   ],
   "source": [
    "printer(summary_dict['mistral'])"
   ]
  },
  {
   "cell_type": "code",
   "execution_count": 64,
   "id": "68bcaf28-60dc-497c-81a7-a10ac9199346",
   "metadata": {},
   "outputs": [
    {
     "data": {
      "text/markdown": [
       "**Design Patterns**\n",
       "=====================\n",
       "\n",
       "### What is a Design Pattern?\n",
       "\n",
       "Design patterns are typical solutions to commonly occurring problems in software design. They are like pre-made blueprints that you can customize to solve a recurring design problem in your code.\n",
       "\n",
       "*   A pattern is not a specific piece of code, but a general concept for solving a particular problem.\n",
       "*   The code of the same pattern applied to two different programs may be different.\n",
       "*   An analogy to an algorithm is a cooking recipe: both have clear steps to achieve a goal. On the other hand, a pattern is more like a blueprint.\n",
       "\n",
       "### History\n",
       "\n",
       "The concept of patterns was first described by Christopher Alexander in his book \"A Pattern Language: Towns, Buildings, Construction\". The idea was picked up by four authors: Erich Gamma, John Vlissides, Ralph Johnson, and Richard Helm. They published their work on design patterns in the book \"Design Patterns: Elements of Reusable Object-Oriented Software\" in 1994.\n",
       "\n",
       "### Why Learn Patterns?\n",
       "\n",
       "*   Design patterns are a toolkit of tried and tested solutions to common problems in software design.\n",
       "*   Knowing patterns teaches you how to solve all sorts of problems using principles of object-oriented design.\n",
       "*   Design patterns define a common language that you and your teammates can use to communicate more efficiently.\n",
       "\n",
       "### Criticism\n",
       "\n",
       "*   Some argue that patterns are used as a kludge for a weak programming language, providing much-needed super-abilities.\n",
       "*   Others claim that patterns try to systematize approaches that are already widely used, making them inefficient solutions.\n",
       "*   There is also the problem of unjustified use, where people try to apply patterns everywhere, even in situations where simpler code would do just fine.\n",
       "\n",
       "### Classification\n",
       "\n",
       "Design patterns can be classified into three main groups:\n",
       "\n",
       "*   **Creational Patterns**: Provide object creation mechanisms that increase flexibility and reuse of existing code.\n",
       "*   **Structural Patterns**: Explain how to assemble objects and classes into larger structures, while keeping these structures flexible and efficient.\n",
       "*   **Behavioral Patterns**: Take care of effective communication and the assignment of responsibilities between objects.\n",
       "\n",
       "### Idioms vs. Architectural Patterns\n",
       "\n",
       "Idioms are low-level patterns that apply only to a single programming language. Architectural patterns, on the other hand, are high-level patterns that can be used to design the architecture of an entire application."
      ],
      "text/plain": [
       "<IPython.core.display.Markdown object>"
      ]
     },
     "metadata": {},
     "output_type": "display_data"
    }
   ],
   "source": [
    "printer(summary_dict['llama3.2'])"
   ]
  },
  {
   "cell_type": "code",
   "execution_count": 65,
   "id": "e1d2cb46-8388-4318-9730-213bab76e3b3",
   "metadata": {},
   "outputs": [
    {
     "data": {
      "text/markdown": [
       "markdown\n",
       "# Design Patterns\n",
       "\n",
       "## Overview\n",
       "Design patterns are typical solutions to commonly occurring problems in software design. They act as blueprints for solving recurring design challenges, not specific pieces of code. Unlike algorithms which define clear steps to achieve a goal, design patterns offer more high-level descriptions with customizable implementation details.\n",
       "\n",
       "### Components of a Pattern\n",
       "- **Intent**: Briefly describes the problem and solution.\n",
       "- **Motivation**: Further explains the problem and its possible solutions.\n",
       "- **Structure of Classes**: Shows how each part of the pattern is related.\n",
       "- **Code Example**: Demonstrates the idea using one or more programming languages.\n",
       "\n",
       "## History\n",
       "The concept of design patterns originated with Christopher Alexander's \"A Pattern Language,\" which described a language for designing urban environments. Erich Gamma, John Vlissides, Ralph Johnson, and Richard Helm popularized these concepts in their 1994 book \"Design Patterns: Elements of Reusable Object-Oriented Software.\" This book introduced 23 patterns solving various object-oriented design problems and became widely influential.\n",
       "\n",
       "Since then, many other patterns have emerged across different programming fields. The pattern approach has gained significant popularity beyond just object-oriented design.\n",
       "\n",
       "## Importance of Learning Patterns\n",
       "Even if you don't use them directly, understanding patterns can help solve complex problems efficiently using principles of object-oriented design. Additionally, knowing patterns improves communication among team members, allowing for concise and clear suggestions like \"Use a Singleton here.\"\n",
       "\n",
       "## Criticisms\n",
       "Critics argue that:\n",
       "- Design patterns may be overkill or redundant if the programming language has sufficient abstraction.\n",
       "- Patterns can lead to inefficient solutions when implemented rigidly without adapting to specific contexts.\n",
       "- Novices might apply patterns unnecessarily, complicating simple problems.\n",
       "\n",
       "## Classification\n",
       "Patterns are classified by their complexity and level of detail. They range from low-level idioms in a single programming language to high-level architectural patterns applicable across multiple languages.\n",
       "\n",
       "### Main Groups of Patterns:\n",
       "1. **Creational Patterns**: Provide flexible object creation mechanisms.\n",
       "2. **Structural Patterns**: Explain how to assemble objects into larger structures efficiently.\n",
       "3. **Behavioral Patterns**: Handle effective communication and assignment of responsibilities between objects.\n"
      ],
      "text/plain": [
       "<IPython.core.display.Markdown object>"
      ]
     },
     "metadata": {},
     "output_type": "display_data"
    }
   ],
   "source": [
    "printer(summary_dict['qwen2.5'])"
   ]
  },
  {
   "cell_type": "code",
   "execution_count": null,
   "id": "68b1be5c-7fad-4a09-858c-a3f7866572fc",
   "metadata": {},
   "outputs": [],
   "source": []
  }
 ],
 "metadata": {
  "kernelspec": {
   "display_name": "Python 3 (ipykernel)",
   "language": "python",
   "name": "python3"
  },
  "language_info": {
   "codemirror_mode": {
    "name": "ipython",
    "version": 3
   },
   "file_extension": ".py",
   "mimetype": "text/x-python",
   "name": "python",
   "nbconvert_exporter": "python",
   "pygments_lexer": "ipython3",
   "version": "3.11.11"
  }
 },
 "nbformat": 4,
 "nbformat_minor": 5
}
