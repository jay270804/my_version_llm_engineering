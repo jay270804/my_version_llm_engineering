{
 "cells": [
  {
   "cell_type": "markdown",
   "id": "5dc4746d-1d68-46b0-922e-498a2839a035",
   "metadata": {},
   "source": [
    "# Youtube video notes generator."
   ]
  },
  {
   "cell_type": "markdown",
   "id": "9d2053b9-ae33-4f7e-8a58-a75c60467acc",
   "metadata": {},
   "source": [
    "### link to Google Colab Notebook:\n",
    "- https://colab.research.google.com/drive/19jotGYeqkKHcHjv1w13E4qVKE4u25V5e#scrollTo=IcrFMvPEv7iN"
   ]
  },
  {
   "cell_type": "code",
   "execution_count": null,
   "id": "a8f7a731-7268-4782-bfce-22f2819c5aab",
   "metadata": {},
   "outputs": [],
   "source": []
  }
 ],
 "metadata": {
  "kernelspec": {
   "display_name": "Python 3 (ipykernel)",
   "language": "python",
   "name": "python3"
  },
  "language_info": {
   "codemirror_mode": {
    "name": "ipython",
    "version": 3
   },
   "file_extension": ".py",
   "mimetype": "text/x-python",
   "name": "python",
   "nbconvert_exporter": "python",
   "pygments_lexer": "ipython3",
   "version": "3.11.11"
  }
 },
 "nbformat": 4,
 "nbformat_minor": 5
}
